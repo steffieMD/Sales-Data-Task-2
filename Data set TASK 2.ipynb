{
 "cells": [
  {
   "cell_type": "markdown",
   "id": "a649ea2d",
   "metadata": {},
   "source": [
    "# DATA VISUALIZATION OF THIS DATA SET TASK 2"
   ]
  },
  {
   "cell_type": "markdown",
   "id": "f965522b",
   "metadata": {},
   "source": [
    "# There is a client who majors in the sales of food items and would like to determine parameter for future prediction (This is on a demand). Below are the parameters to be determined based on the data set provided\n"
   ]
  },
  {
   "cell_type": "markdown",
   "id": "870cd063",
   "metadata": {},
   "source": [
    " \n",
    "##### Group1 - Most of their product are either below or a bit above  10 dollars - We are to determine the below parameters\n",
    "- How many products cost more than 10.00 dollars?\n",
    "- How many products cost less than 10.00 dollars?\n",
    "\n"
   ]
  },
  {
   "cell_type": "markdown",
   "id": "08c3586d",
   "metadata": {},
   "source": [
    "#### Group 2\n",
    "- What is the price of each item?\n",
    "- Sort the products by the name of the item\n"
   ]
  },
  {
   "cell_type": "markdown",
   "id": "fca50792",
   "metadata": {},
   "source": [
    "##### Group 3\n",
    "- What was the quantity of the most expensive item ordered?\n",
    "- How many times was a Chicken Burrito ordered?\n",
    "- How many times did someone order more than one Canned Soda?"
   ]
  },
  {
   "cell_type": "code",
   "execution_count": 2,
   "id": "c4e4cc5f",
   "metadata": {},
   "outputs": [],
   "source": [
    "import pandas as pd\n",
    "import numpy as np\n",
    "import matplotlib.pyplot as plt\n",
    "%matplotlib inline"
   ]
  },
  {
   "cell_type": "code",
   "execution_count": 3,
   "id": "78b4a9d4",
   "metadata": {},
   "outputs": [
    {
     "data": {
      "text/html": [
       "<div>\n",
       "<style scoped>\n",
       "    .dataframe tbody tr th:only-of-type {\n",
       "        vertical-align: middle;\n",
       "    }\n",
       "\n",
       "    .dataframe tbody tr th {\n",
       "        vertical-align: top;\n",
       "    }\n",
       "\n",
       "    .dataframe thead th {\n",
       "        text-align: right;\n",
       "    }\n",
       "</style>\n",
       "<table border=\"1\" class=\"dataframe\">\n",
       "  <thead>\n",
       "    <tr style=\"text-align: right;\">\n",
       "      <th></th>\n",
       "      <th>order_id</th>\n",
       "      <th>quantity</th>\n",
       "      <th>item_name</th>\n",
       "      <th>choice_description</th>\n",
       "      <th>item_price</th>\n",
       "    </tr>\n",
       "  </thead>\n",
       "  <tbody>\n",
       "    <tr>\n",
       "      <th>0</th>\n",
       "      <td>1</td>\n",
       "      <td>1</td>\n",
       "      <td>Izze</td>\n",
       "      <td>[Clementine]</td>\n",
       "      <td>$3.39</td>\n",
       "    </tr>\n",
       "    <tr>\n",
       "      <th>1</th>\n",
       "      <td>1</td>\n",
       "      <td>1</td>\n",
       "      <td>Nantucket Nectar</td>\n",
       "      <td>[Apple]</td>\n",
       "      <td>$3.39</td>\n",
       "    </tr>\n",
       "    <tr>\n",
       "      <th>2</th>\n",
       "      <td>2</td>\n",
       "      <td>2</td>\n",
       "      <td>Chicken Bowl</td>\n",
       "      <td>[Tomatillo-Red Chili Salsa (Hot), [Black Beans...</td>\n",
       "      <td>$16.98</td>\n",
       "    </tr>\n",
       "    <tr>\n",
       "      <th>3</th>\n",
       "      <td>3</td>\n",
       "      <td>1</td>\n",
       "      <td>Chicken Bowl</td>\n",
       "      <td>[Fresh Tomato Salsa (Mild), [Rice, Cheese, Sou...</td>\n",
       "      <td>$10.98</td>\n",
       "    </tr>\n",
       "    <tr>\n",
       "      <th>4</th>\n",
       "      <td>4</td>\n",
       "      <td>1</td>\n",
       "      <td>Steak Burrito</td>\n",
       "      <td>[Tomatillo Red Chili Salsa, [Fajita Vegetables...</td>\n",
       "      <td>$11.75</td>\n",
       "    </tr>\n",
       "    <tr>\n",
       "      <th>...</th>\n",
       "      <td>...</td>\n",
       "      <td>...</td>\n",
       "      <td>...</td>\n",
       "      <td>...</td>\n",
       "      <td>...</td>\n",
       "    </tr>\n",
       "    <tr>\n",
       "      <th>195</th>\n",
       "      <td>115</td>\n",
       "      <td>1</td>\n",
       "      <td>Steak Burrito</td>\n",
       "      <td>[Roasted Chili Corn Salsa (Medium), [Black Bea...</td>\n",
       "      <td>$8.99</td>\n",
       "    </tr>\n",
       "    <tr>\n",
       "      <th>196</th>\n",
       "      <td>116</td>\n",
       "      <td>1</td>\n",
       "      <td>Steak Soft Tacos</td>\n",
       "      <td>[Fresh Tomato Salsa, [Rice, Cheese, Lettuce]]</td>\n",
       "      <td>$9.25</td>\n",
       "    </tr>\n",
       "    <tr>\n",
       "      <th>197</th>\n",
       "      <td>117</td>\n",
       "      <td>1</td>\n",
       "      <td>Barbacoa Soft Tacos</td>\n",
       "      <td>[Tomatillo-Red Chili Salsa (Hot), [Pinto Beans...</td>\n",
       "      <td>$8.99</td>\n",
       "    </tr>\n",
       "    <tr>\n",
       "      <th>198</th>\n",
       "      <td>118</td>\n",
       "      <td>1</td>\n",
       "      <td>Chicken Burrito</td>\n",
       "      <td>[Tomatillo-Green Chili Salsa (Medium), [Pinto ...</td>\n",
       "      <td>$8.49</td>\n",
       "    </tr>\n",
       "    <tr>\n",
       "      <th>199</th>\n",
       "      <td>119</td>\n",
       "      <td>1</td>\n",
       "      <td>Chicken Burrito</td>\n",
       "      <td>[[Fresh Tomato Salsa (Mild), Roasted Chili Cor...</td>\n",
       "      <td>$8.49</td>\n",
       "    </tr>\n",
       "  </tbody>\n",
       "</table>\n",
       "<p>200 rows × 5 columns</p>\n",
       "</div>"
      ],
      "text/plain": [
       "     order_id  quantity            item_name  \\\n",
       "0           1         1                 Izze   \n",
       "1           1         1     Nantucket Nectar   \n",
       "2           2         2         Chicken Bowl   \n",
       "3           3         1         Chicken Bowl   \n",
       "4           4         1        Steak Burrito   \n",
       "..        ...       ...                  ...   \n",
       "195       115         1        Steak Burrito   \n",
       "196       116         1     Steak Soft Tacos   \n",
       "197       117         1  Barbacoa Soft Tacos   \n",
       "198       118         1      Chicken Burrito   \n",
       "199       119         1      Chicken Burrito   \n",
       "\n",
       "                                    choice_description item_price  \n",
       "0                                         [Clementine]     $3.39   \n",
       "1                                              [Apple]     $3.39   \n",
       "2    [Tomatillo-Red Chili Salsa (Hot), [Black Beans...    $16.98   \n",
       "3    [Fresh Tomato Salsa (Mild), [Rice, Cheese, Sou...    $10.98   \n",
       "4    [Tomatillo Red Chili Salsa, [Fajita Vegetables...    $11.75   \n",
       "..                                                 ...        ...  \n",
       "195  [Roasted Chili Corn Salsa (Medium), [Black Bea...     $8.99   \n",
       "196      [Fresh Tomato Salsa, [Rice, Cheese, Lettuce]]     $9.25   \n",
       "197  [Tomatillo-Red Chili Salsa (Hot), [Pinto Beans...     $8.99   \n",
       "198  [Tomatillo-Green Chili Salsa (Medium), [Pinto ...     $8.49   \n",
       "199  [[Fresh Tomato Salsa (Mild), Roasted Chili Cor...     $8.49   \n",
       "\n",
       "[200 rows x 5 columns]"
      ]
     },
     "execution_count": 3,
     "metadata": {},
     "output_type": "execute_result"
    }
   ],
   "source": [
    "sales_data = pd.read_csv('salesdata.csv')\n",
    "sales_data"
   ]
  },
  {
   "cell_type": "markdown",
   "id": "b36b07a5",
   "metadata": {},
   "source": [
    "### GROUP 1"
   ]
  },
  {
   "cell_type": "code",
   "execution_count": 4,
   "id": "d2b85c81",
   "metadata": {},
   "outputs": [
    {
     "name": "stderr",
     "output_type": "stream",
     "text": [
      "C:\\Users\\840 g5\\AppData\\Local\\Temp\\ipykernel_2700\\2466140954.py:4: FutureWarning: The default value of regex will change from True to False in a future version.\n",
      "  sales_data['item_price'] = sales_data['item_price'].str.replace('[/$/.]', '').astype(int)\n"
     ]
    }
   ],
   "source": [
    "# How many products cost more than 10.00 dollars?\n",
    "\n",
    "#first lets convert 'item_price' to int\n",
    "sales_data['item_price'] = sales_data['item_price'].str.replace('[/$/.]', '').astype(int)"
   ]
  },
  {
   "cell_type": "code",
   "execution_count": 5,
   "id": "e09ce58e",
   "metadata": {},
   "outputs": [],
   "source": [
    "sales_data['item_price'] = sales_data['item_price'] / 100"
   ]
  },
  {
   "cell_type": "code",
   "execution_count": 6,
   "id": "cf10e7f4",
   "metadata": {
    "scrolled": true
   },
   "outputs": [
    {
     "data": {
      "text/plain": [
       "order_id              60\n",
       "quantity              60\n",
       "item_name             60\n",
       "choice_description    60\n",
       "item_price            60\n",
       "dtype: int64"
      ]
     },
     "execution_count": 6,
     "metadata": {},
     "output_type": "execute_result"
    }
   ],
   "source": [
    "# how many products cost more than 10 dollars? \n",
    "count = sales_data[sales_data['item_price'] > 10].count()\n",
    "count"
   ]
  },
  {
   "cell_type": "code",
   "execution_count": 62,
   "id": "ae5d0e2d",
   "metadata": {
    "scrolled": true
   },
   "outputs": [
    {
     "data": {
      "image/png": "[encoded data removed]",
      "text/plain": [
       "<Figure size 1440x432 with 1 Axes>"
      ]
     },
     "metadata": {
      "needs_background": "light"
     },
     "output_type": "display_data"
    }
   ],
   "source": [
    "# MAKE A PLOT SHOWING PRODUCTS COSTING MORE THAN 10 DOLLARS\n",
    "# Create data showing items greater than 10 dollars\n",
    "more_than_10 = sales_data[sales_data['item_price'] > 10]\n",
    "more_than_10\n",
    "\n",
    "# Plot data\n",
    "fig, ax = plt.subplots(figsize = (20,6))\n",
    "ax.barh(list(more_than_10['item_name']), list(more_than_10['item_price']), color ='orange');\n",
    "ax.set(title = 'Bar Chart showing products costing more than 10 dollars',\n",
    "      ylabel='Product Name',\n",
    "      xlabel = 'Price ($)')\n",
    "ax.set_xlim(10,25);"
   ]
  },
  {
   "cell_type": "code",
   "execution_count": 7,
   "id": "d9dfb4e0",
   "metadata": {
    "scrolled": true
   },
   "outputs": [
    {
     "name": "stdout",
     "output_type": "stream",
     "text": [
      "16.98\n",
      "10.98\n",
      "11.75\n",
      "11.25\n",
      "10.98\n",
      "11.75\n",
      "11.25\n",
      "11.75\n",
      "10.98\n",
      "10.98\n",
      "11.25\n",
      "11.75\n",
      "11.25\n",
      "10.98\n",
      "11.25\n",
      "11.75\n",
      "11.75\n",
      "11.75\n",
      "11.75\n",
      "11.25\n",
      "11.75\n",
      "10.98\n",
      "22.5\n",
      "11.75\n",
      "11.25\n",
      "11.25\n",
      "11.25\n",
      "11.25\n",
      "11.75\n",
      "11.48\n",
      "17.98\n",
      "17.5\n",
      "17.5\n",
      "11.25\n",
      "11.75\n",
      "10.98\n",
      "10.98\n",
      "11.48\n",
      "11.25\n",
      "11.75\n",
      "10.98\n",
      "11.48\n",
      "11.25\n",
      "11.48\n",
      "11.25\n",
      "10.98\n",
      "11.25\n",
      "11.25\n",
      "11.25\n",
      "11.25\n",
      "22.5\n",
      "11.75\n",
      "17.5\n",
      "11.25\n",
      "11.75\n",
      "11.75\n",
      "17.5\n",
      "10.98\n",
      "10.98\n",
      "11.75\n"
     ]
    }
   ],
   "source": [
    "# How many products cost more than 10.00 dollars?\n",
    "for x in sales_data['item_price']:\n",
    "    if x > 10:\n",
    "        print(str(x))"
   ]
  },
  {
   "cell_type": "code",
   "execution_count": 8,
   "id": "35ad9000",
   "metadata": {},
   "outputs": [
    {
     "data": {
      "text/plain": [
       "order_id              140\n",
       "quantity              140\n",
       "item_name             140\n",
       "choice_description    140\n",
       "item_price            140\n",
       "dtype: int64"
      ]
     },
     "execution_count": 8,
     "metadata": {},
     "output_type": "execute_result"
    }
   ],
   "source": [
    "# How many products cost less than 10.00 dollars?\n",
    "count_less = sales_data[sales_data['item_price'] < 10].count()\n",
    "count_less"
   ]
  },
  {
   "cell_type": "code",
   "execution_count": 8,
   "id": "c92d26e0",
   "metadata": {},
   "outputs": [
    {
     "name": "stdout",
     "output_type": "stream",
     "text": [
      "3.39\n",
      "3.39\n",
      "9.25\n",
      "9.25\n",
      "8.75\n",
      "8.75\n",
      "8.49\n",
      "8.49\n",
      "2.18\n",
      "8.75\n",
      "8.99\n",
      "3.39\n",
      "3.39\n",
      "8.49\n",
      "8.99\n",
      "1.09\n",
      "8.49\n",
      "8.99\n",
      "8.99\n",
      "8.75\n",
      "8.75\n",
      "8.75\n",
      "8.99\n",
      "3.39\n",
      "8.99\n",
      "8.99\n",
      "2.18\n",
      "1.09\n",
      "8.99\n",
      "9.25\n",
      "9.25\n",
      "8.75\n",
      "8.99\n",
      "8.99\n",
      "3.39\n",
      "8.99\n",
      "8.99\n",
      "8.99\n",
      "8.75\n",
      "8.75\n",
      "8.75\n",
      "8.75\n",
      "9.25\n",
      "8.75\n",
      "8.75\n",
      "9.25\n",
      "8.49\n",
      "8.99\n",
      "9.25\n",
      "9.25\n",
      "9.25\n",
      "8.75\n",
      "8.75\n",
      "8.99\n",
      "8.99\n",
      "8.49\n",
      "3.39\n",
      "8.99\n",
      "1.09\n",
      "9.25\n",
      "8.75\n",
      "8.49\n",
      "8.99\n",
      "8.49\n",
      "1.09\n",
      "8.99\n",
      "8.75\n",
      "9.25\n",
      "8.99\n",
      "1.09\n",
      "9.25\n",
      "8.49\n",
      "9.25\n",
      "8.49\n",
      "8.49\n",
      "2.18\n",
      "8.49\n",
      "8.75\n",
      "8.49\n",
      "2.18\n",
      "8.49\n",
      "3.39\n",
      "8.49\n",
      "8.99\n",
      "8.49\n",
      "1.09\n",
      "1.09\n",
      "9.25\n",
      "8.75\n",
      "9.25\n",
      "8.49\n",
      "8.49\n",
      "8.99\n",
      "8.75\n",
      "1.09\n",
      "8.99\n",
      "8.49\n",
      "1.09\n",
      "8.75\n",
      "8.49\n",
      "3.39\n",
      "8.75\n",
      "9.25\n",
      "8.75\n",
      "8.75\n",
      "9.25\n",
      "8.75\n",
      "9.25\n",
      "8.75\n",
      "8.99\n",
      "1.09\n",
      "8.99\n",
      "8.75\n",
      "9.25\n",
      "9.25\n",
      "9.25\n",
      "8.75\n",
      "9.25\n",
      "8.99\n",
      "1.09\n",
      "1.09\n",
      "1.09\n",
      "8.99\n",
      "1.09\n",
      "8.75\n",
      "8.75\n",
      "9.25\n",
      "9.25\n",
      "8.75\n",
      "8.75\n",
      "8.99\n",
      "8.99\n",
      "8.99\n",
      "1.09\n",
      "1.25\n",
      "8.99\n",
      "9.25\n",
      "8.99\n",
      "8.49\n",
      "8.49\n"
     ]
    }
   ],
   "source": [
    "for x in sales_data['item_price']:\n",
    "    if x < 10:\n",
    "        print(str(x))"
   ]
  },
  {
   "cell_type": "code",
   "execution_count": 90,
   "id": "4ddf6ec5",
   "metadata": {},
   "outputs": [
    {
     "data": {
      "image/png": "[encoded data removed]",
      "text/plain": [
       "<Figure size 1800x432 with 1 Axes>"
      ]
     },
     "metadata": {
      "needs_background": "light"
     },
     "output_type": "display_data"
    }
   ],
   "source": [
    "# MAKE A PLOT SHOWING PRODUCTS COSTING LESS THAN 10 DOLLARS\n",
    "# Create data showing items less than 10 dollars\n",
    "less_than_10 = sales_data[sales_data['item_price'] < 10]\n",
    "less_than_10\n",
    "\n",
    "# # Plot data\n",
    "fig, ax = plt.subplots(figsize = (25,6))\n",
    "ax.bar(less_than_10['item_name'], less_than_10['item_price'], color ='maroon', hatch='/');\n",
    "ax.set(title = 'Bar Chart showing products costing less than 10 dollars',\n",
    "       ylabel='Product Name',\n",
    "       xlabel = 'Price ($)')\n",
    "\n",
    "ax.set_xlim(0,15);"
   ]
  },
  {
   "cell_type": "raw",
   "id": "cfa8944f",
   "metadata": {},
   "source": []
  },
  {
   "cell_type": "markdown",
   "id": "1cc2ece2",
   "metadata": {},
   "source": [
    "## GROUP 2"
   ]
  },
  {
   "cell_type": "code",
   "execution_count": 9,
   "id": "1d60f0d2",
   "metadata": {},
   "outputs": [
    {
     "data": {
      "text/html": [
       "<div>\n",
       "<style scoped>\n",
       "    .dataframe tbody tr th:only-of-type {\n",
       "        vertical-align: middle;\n",
       "    }\n",
       "\n",
       "    .dataframe tbody tr th {\n",
       "        vertical-align: top;\n",
       "    }\n",
       "\n",
       "    .dataframe thead th {\n",
       "        text-align: right;\n",
       "    }\n",
       "</style>\n",
       "<table border=\"1\" class=\"dataframe\">\n",
       "  <thead>\n",
       "    <tr style=\"text-align: right;\">\n",
       "      <th></th>\n",
       "      <th>item_name</th>\n",
       "      <th>item_price</th>\n",
       "    </tr>\n",
       "  </thead>\n",
       "  <tbody>\n",
       "    <tr>\n",
       "      <th>0</th>\n",
       "      <td>Izze</td>\n",
       "      <td>3.39</td>\n",
       "    </tr>\n",
       "    <tr>\n",
       "      <th>1</th>\n",
       "      <td>Nantucket Nectar</td>\n",
       "      <td>3.39</td>\n",
       "    </tr>\n",
       "    <tr>\n",
       "      <th>2</th>\n",
       "      <td>Chicken Bowl</td>\n",
       "      <td>16.98</td>\n",
       "    </tr>\n",
       "    <tr>\n",
       "      <th>3</th>\n",
       "      <td>Chicken Bowl</td>\n",
       "      <td>10.98</td>\n",
       "    </tr>\n",
       "    <tr>\n",
       "      <th>4</th>\n",
       "      <td>Steak Burrito</td>\n",
       "      <td>11.75</td>\n",
       "    </tr>\n",
       "    <tr>\n",
       "      <th>...</th>\n",
       "      <td>...</td>\n",
       "      <td>...</td>\n",
       "    </tr>\n",
       "    <tr>\n",
       "      <th>195</th>\n",
       "      <td>Steak Burrito</td>\n",
       "      <td>8.99</td>\n",
       "    </tr>\n",
       "    <tr>\n",
       "      <th>196</th>\n",
       "      <td>Steak Soft Tacos</td>\n",
       "      <td>9.25</td>\n",
       "    </tr>\n",
       "    <tr>\n",
       "      <th>197</th>\n",
       "      <td>Barbacoa Soft Tacos</td>\n",
       "      <td>8.99</td>\n",
       "    </tr>\n",
       "    <tr>\n",
       "      <th>198</th>\n",
       "      <td>Chicken Burrito</td>\n",
       "      <td>8.49</td>\n",
       "    </tr>\n",
       "    <tr>\n",
       "      <th>199</th>\n",
       "      <td>Chicken Burrito</td>\n",
       "      <td>8.49</td>\n",
       "    </tr>\n",
       "  </tbody>\n",
       "</table>\n",
       "<p>200 rows × 2 columns</p>\n",
       "</div>"
      ],
      "text/plain": [
       "               item_name  item_price\n",
       "0                   Izze        3.39\n",
       "1       Nantucket Nectar        3.39\n",
       "2           Chicken Bowl       16.98\n",
       "3           Chicken Bowl       10.98\n",
       "4          Steak Burrito       11.75\n",
       "..                   ...         ...\n",
       "195        Steak Burrito        8.99\n",
       "196     Steak Soft Tacos        9.25\n",
       "197  Barbacoa Soft Tacos        8.99\n",
       "198      Chicken Burrito        8.49\n",
       "199      Chicken Burrito        8.49\n",
       "\n",
       "[200 rows x 2 columns]"
      ]
     },
     "execution_count": 9,
     "metadata": {},
     "output_type": "execute_result"
    }
   ],
   "source": [
    "# What is the price of each item?\n",
    "item_name = sales_data['item_name']\n",
    "item_price = sales_data['item_price']\n",
    "pd.concat([item_name, item_price], axis = 1)"
   ]
  },
  {
   "cell_type": "code",
   "execution_count": 134,
   "id": "0bfdac0e",
   "metadata": {
    "scrolled": true
   },
   "outputs": [
    {
     "data": {
      "image/png": "[encoded data removed]",
      "text/plain": [
       "<Figure size 3600x1440 with 1 Axes>"
      ]
     },
     "metadata": {
      "needs_background": "light"
     },
     "output_type": "display_data"
    }
   ],
   "source": [
    "# Plot a bar graph showing price of each item\n",
    "\n",
    "fig,ax = plt.subplots(figsize = (50,20))\n",
    "ax.bar(sales_data['item_name'],sales_data['item_price'], width=0.4,)\n",
    "ax.set(title='Bar Graph showing the price of each item', \n",
    "       ylabel='Price',\n",
    "       xlabel='Product name');"
   ]
  },
  {
   "cell_type": "code",
   "execution_count": 10,
   "id": "f7392a12",
   "metadata": {},
   "outputs": [
    {
     "data": {
      "text/html": [
       "<div>\n",
       "<style scoped>\n",
       "    .dataframe tbody tr th:only-of-type {\n",
       "        vertical-align: middle;\n",
       "    }\n",
       "\n",
       "    .dataframe tbody tr th {\n",
       "        vertical-align: top;\n",
       "    }\n",
       "\n",
       "    .dataframe thead th {\n",
       "        text-align: right;\n",
       "    }\n",
       "</style>\n",
       "<table border=\"1\" class=\"dataframe\">\n",
       "  <thead>\n",
       "    <tr style=\"text-align: right;\">\n",
       "      <th></th>\n",
       "      <th>order_id</th>\n",
       "      <th>quantity</th>\n",
       "      <th>item_name</th>\n",
       "      <th>choice_description</th>\n",
       "      <th>item_price</th>\n",
       "    </tr>\n",
       "  </thead>\n",
       "  <tbody>\n",
       "    <tr>\n",
       "      <th>41</th>\n",
       "      <td>27</td>\n",
       "      <td>1</td>\n",
       "      <td>Barbacoa Bowl</td>\n",
       "      <td>[Roasted Chili Corn Salsa, [Fajita Vegetables,...</td>\n",
       "      <td>11.75</td>\n",
       "    </tr>\n",
       "    <tr>\n",
       "      <th>95</th>\n",
       "      <td>61</td>\n",
       "      <td>1</td>\n",
       "      <td>Barbacoa Bowl</td>\n",
       "      <td>[Tomatillo Red Chili Salsa, [Fajita Vegetables...</td>\n",
       "      <td>11.75</td>\n",
       "    </tr>\n",
       "    <tr>\n",
       "      <th>90</th>\n",
       "      <td>56</td>\n",
       "      <td>1</td>\n",
       "      <td>Barbacoa Bowl</td>\n",
       "      <td>[Tomatillo Red Chili Salsa, [Rice, Pinto Beans...</td>\n",
       "      <td>9.25</td>\n",
       "    </tr>\n",
       "    <tr>\n",
       "      <th>26</th>\n",
       "      <td>19</td>\n",
       "      <td>1</td>\n",
       "      <td>Barbacoa Bowl</td>\n",
       "      <td>[Roasted Chili Corn Salsa, [Fajita Vegetables,...</td>\n",
       "      <td>11.75</td>\n",
       "    </tr>\n",
       "    <tr>\n",
       "      <th>185</th>\n",
       "      <td>110</td>\n",
       "      <td>1</td>\n",
       "      <td>Barbacoa Bowl</td>\n",
       "      <td>[Tomatillo Red Chili Salsa, [Rice, Cheese, Let...</td>\n",
       "      <td>9.25</td>\n",
       "    </tr>\n",
       "    <tr>\n",
       "      <th>...</th>\n",
       "      <td>...</td>\n",
       "      <td>...</td>\n",
       "      <td>...</td>\n",
       "      <td>...</td>\n",
       "      <td>...</td>\n",
       "    </tr>\n",
       "    <tr>\n",
       "      <th>184</th>\n",
       "      <td>110</td>\n",
       "      <td>1</td>\n",
       "      <td>Veggie Bowl</td>\n",
       "      <td>[Roasted Chili Corn Salsa, [Rice, Pinto Beans,...</td>\n",
       "      <td>8.75</td>\n",
       "    </tr>\n",
       "    <tr>\n",
       "      <th>162</th>\n",
       "      <td>99</td>\n",
       "      <td>1</td>\n",
       "      <td>Veggie Burrito</td>\n",
       "      <td>[Tomatillo Red Chili Salsa, [Black Beans, Chee...</td>\n",
       "      <td>11.25</td>\n",
       "    </tr>\n",
       "    <tr>\n",
       "      <th>40</th>\n",
       "      <td>26</td>\n",
       "      <td>1</td>\n",
       "      <td>Veggie Burrito</td>\n",
       "      <td>[Tomatillo Red Chili Salsa, [Fajita Vegetables...</td>\n",
       "      <td>11.25</td>\n",
       "    </tr>\n",
       "    <tr>\n",
       "      <th>74</th>\n",
       "      <td>46</td>\n",
       "      <td>1</td>\n",
       "      <td>Veggie Burrito</td>\n",
       "      <td>[Fresh Tomato Salsa (Mild), [Black Beans, Rice...</td>\n",
       "      <td>8.49</td>\n",
       "    </tr>\n",
       "    <tr>\n",
       "      <th>132</th>\n",
       "      <td>83</td>\n",
       "      <td>1</td>\n",
       "      <td>Veggie Salad Bowl</td>\n",
       "      <td>[Fresh Tomato Salsa, [Fajita Vegetables, Rice,...</td>\n",
       "      <td>11.25</td>\n",
       "    </tr>\n",
       "  </tbody>\n",
       "</table>\n",
       "<p>200 rows × 5 columns</p>\n",
       "</div>"
      ],
      "text/plain": [
       "     order_id  quantity          item_name  \\\n",
       "41         27         1      Barbacoa Bowl   \n",
       "95         61         1      Barbacoa Bowl   \n",
       "90         56         1      Barbacoa Bowl   \n",
       "26         19         1      Barbacoa Bowl   \n",
       "185       110         1      Barbacoa Bowl   \n",
       "..        ...       ...                ...   \n",
       "184       110         1        Veggie Bowl   \n",
       "162        99         1     Veggie Burrito   \n",
       "40         26         1     Veggie Burrito   \n",
       "74         46         1     Veggie Burrito   \n",
       "132        83         1  Veggie Salad Bowl   \n",
       "\n",
       "                                    choice_description  item_price  \n",
       "41   [Roasted Chili Corn Salsa, [Fajita Vegetables,...       11.75  \n",
       "95   [Tomatillo Red Chili Salsa, [Fajita Vegetables...       11.75  \n",
       "90   [Tomatillo Red Chili Salsa, [Rice, Pinto Beans...        9.25  \n",
       "26   [Roasted Chili Corn Salsa, [Fajita Vegetables,...       11.75  \n",
       "185  [Tomatillo Red Chili Salsa, [Rice, Cheese, Let...        9.25  \n",
       "..                                                 ...         ...  \n",
       "184  [Roasted Chili Corn Salsa, [Rice, Pinto Beans,...        8.75  \n",
       "162  [Tomatillo Red Chili Salsa, [Black Beans, Chee...       11.25  \n",
       "40   [Tomatillo Red Chili Salsa, [Fajita Vegetables...       11.25  \n",
       "74   [Fresh Tomato Salsa (Mild), [Black Beans, Rice...        8.49  \n",
       "132  [Fresh Tomato Salsa, [Fajita Vegetables, Rice,...       11.25  \n",
       "\n",
       "[200 rows x 5 columns]"
      ]
     },
     "execution_count": 10,
     "metadata": {},
     "output_type": "execute_result"
    }
   ],
   "source": [
    "# Sort the products by the name of the item\n",
    "sales_data.sort_values(by = ['item_name'])"
   ]
  },
  {
   "cell_type": "markdown",
   "id": "4e1957d1",
   "metadata": {},
   "source": [
    "## Group 3\n"
   ]
  },
  {
   "cell_type": "code",
   "execution_count": 136,
   "id": "2db62794",
   "metadata": {
    "scrolled": true
   },
   "outputs": [
    {
     "data": {
      "text/html": [
       "<div>\n",
       "<style scoped>\n",
       "    .dataframe tbody tr th:only-of-type {\n",
       "        vertical-align: middle;\n",
       "    }\n",
       "\n",
       "    .dataframe tbody tr th {\n",
       "        vertical-align: top;\n",
       "    }\n",
       "\n",
       "    .dataframe thead th {\n",
       "        text-align: right;\n",
       "    }\n",
       "</style>\n",
       "<table border=\"1\" class=\"dataframe\">\n",
       "  <thead>\n",
       "    <tr style=\"text-align: right;\">\n",
       "      <th></th>\n",
       "      <th>item_price</th>\n",
       "    </tr>\n",
       "    <tr>\n",
       "      <th>item_name</th>\n",
       "      <th></th>\n",
       "    </tr>\n",
       "  </thead>\n",
       "  <tbody>\n",
       "    <tr>\n",
       "      <th>Chicken Salad Bowl</th>\n",
       "      <td>22.50</td>\n",
       "    </tr>\n",
       "    <tr>\n",
       "      <th>Steak Burrito</th>\n",
       "      <td>17.98</td>\n",
       "    </tr>\n",
       "    <tr>\n",
       "      <th>Chicken Bowl</th>\n",
       "      <td>17.50</td>\n",
       "    </tr>\n",
       "    <tr>\n",
       "      <th>Chicken Burrito</th>\n",
       "      <td>17.50</td>\n",
       "    </tr>\n",
       "    <tr>\n",
       "      <th>Chicken Crispy Tacos</th>\n",
       "      <td>17.50</td>\n",
       "    </tr>\n",
       "    <tr>\n",
       "      <th>Barbacoa Bowl</th>\n",
       "      <td>11.75</td>\n",
       "    </tr>\n",
       "    <tr>\n",
       "      <th>Barbacoa Crispy Tacos</th>\n",
       "      <td>11.75</td>\n",
       "    </tr>\n",
       "    <tr>\n",
       "      <th>Carnitas Bowl</th>\n",
       "      <td>11.75</td>\n",
       "    </tr>\n",
       "    <tr>\n",
       "      <th>Carnitas Burrito</th>\n",
       "      <td>11.75</td>\n",
       "    </tr>\n",
       "    <tr>\n",
       "      <th>Steak Bowl</th>\n",
       "      <td>11.75</td>\n",
       "    </tr>\n",
       "    <tr>\n",
       "      <th>Barbacoa Burrito</th>\n",
       "      <td>11.75</td>\n",
       "    </tr>\n",
       "    <tr>\n",
       "      <th>Chicken Soft Tacos</th>\n",
       "      <td>11.25</td>\n",
       "    </tr>\n",
       "    <tr>\n",
       "      <th>Veggie Burrito</th>\n",
       "      <td>11.25</td>\n",
       "    </tr>\n",
       "    <tr>\n",
       "      <th>Veggie Bowl</th>\n",
       "      <td>11.25</td>\n",
       "    </tr>\n",
       "    <tr>\n",
       "      <th>Veggie Salad Bowl</th>\n",
       "      <td>11.25</td>\n",
       "    </tr>\n",
       "    <tr>\n",
       "      <th>Chicken Salad</th>\n",
       "      <td>10.98</td>\n",
       "    </tr>\n",
       "    <tr>\n",
       "      <th>Carnitas Soft Tacos</th>\n",
       "      <td>9.25</td>\n",
       "    </tr>\n",
       "    <tr>\n",
       "      <th>Steak Crispy Tacos</th>\n",
       "      <td>9.25</td>\n",
       "    </tr>\n",
       "    <tr>\n",
       "      <th>Steak Soft Tacos</th>\n",
       "      <td>9.25</td>\n",
       "    </tr>\n",
       "    <tr>\n",
       "      <th>Barbacoa Soft Tacos</th>\n",
       "      <td>9.25</td>\n",
       "    </tr>\n",
       "    <tr>\n",
       "      <th>Izze</th>\n",
       "      <td>3.39</td>\n",
       "    </tr>\n",
       "    <tr>\n",
       "      <th>Nantucket Nectar</th>\n",
       "      <td>3.39</td>\n",
       "    </tr>\n",
       "    <tr>\n",
       "      <th>Canned Soda</th>\n",
       "      <td>2.18</td>\n",
       "    </tr>\n",
       "    <tr>\n",
       "      <th>Canned Soft Drink</th>\n",
       "      <td>1.25</td>\n",
       "    </tr>\n",
       "  </tbody>\n",
       "</table>\n",
       "</div>"
      ],
      "text/plain": [
       "                       item_price\n",
       "item_name                        \n",
       "Chicken Salad Bowl          22.50\n",
       "Steak Burrito               17.98\n",
       "Chicken Bowl                17.50\n",
       "Chicken Burrito             17.50\n",
       "Chicken Crispy Tacos        17.50\n",
       "Barbacoa Bowl               11.75\n",
       "Barbacoa Crispy Tacos       11.75\n",
       "Carnitas Bowl               11.75\n",
       "Carnitas Burrito            11.75\n",
       "Steak Bowl                  11.75\n",
       "Barbacoa Burrito            11.75\n",
       "Chicken Soft Tacos          11.25\n",
       "Veggie Burrito              11.25\n",
       "Veggie Bowl                 11.25\n",
       "Veggie Salad Bowl           11.25\n",
       "Chicken Salad               10.98\n",
       "Carnitas Soft Tacos          9.25\n",
       "Steak Crispy Tacos           9.25\n",
       "Steak Soft Tacos             9.25\n",
       "Barbacoa Soft Tacos          9.25\n",
       "Izze                         3.39\n",
       "Nantucket Nectar             3.39\n",
       "Canned Soda                  2.18\n",
       "Canned Soft Drink            1.25"
      ]
     },
     "execution_count": 136,
     "metadata": {},
     "output_type": "execute_result"
    }
   ],
   "source": [
    "# What was the quantity of the most expensive item ordered?\n",
    "\n",
    "most_expensive = sales_data[['item_name', 'item_price']].groupby('item_name').max().sort_values('item_price', ascending= False)\n",
    "most_expensive"
   ]
  },
  {
   "cell_type": "code",
   "execution_count": 150,
   "id": "1464e461",
   "metadata": {},
   "outputs": [
    {
     "data": {
      "image/png": "[encoded data removed]",
      "text/plain": [
       "<Figure size 432x288 with 1 Axes>"
      ]
     },
     "metadata": {
      "needs_background": "light"
     },
     "output_type": "display_data"
    }
   ],
   "source": [
    "# Create a plot showing the most expensive item ordered\n",
    "most_expensive.plot(kind='bar',\n",
    "                   title='Bar Chart Showing Most Expensive Product Ordered',\n",
    "                   ylabel='Price', ylim=(0,25),\n",
    "                   color='black');"
   ]
  },
  {
   "cell_type": "code",
   "execution_count": 151,
   "id": "9c01e290",
   "metadata": {},
   "outputs": [],
   "source": [
    "import re"
   ]
  },
  {
   "cell_type": "code",
   "execution_count": 152,
   "id": "badb2129",
   "metadata": {},
   "outputs": [
    {
     "data": {
      "text/plain": [
       "41"
      ]
     },
     "execution_count": 152,
     "metadata": {},
     "output_type": "execute_result"
    }
   ],
   "source": [
    "# How many times was a Chicken Burrito ordered?\n",
    "\n",
    "chicken_burrito_sales = sales_data.loc[sales_data['item_name'].str.contains('^Chicken Burrito[a-z]*',flags=re.I, regex=True)]\n",
    "chicken_burrito_sales['quantity'].astype(int).sum()"
   ]
  },
  {
   "cell_type": "code",
   "execution_count": 33,
   "id": "5ec1c3a8",
   "metadata": {},
   "outputs": [
    {
     "data": {
      "text/plain": [
       "order_id                                                            181\n",
       "quantity                                                              8\n",
       "item_name                  Canned SodaCanned SodaCanned SodaCanned Soda\n",
       "choice_description    [Sprite][Mountain Dew][Diet Coke][Diet Dr. Pep...\n",
       "item_price                                                         8.72\n",
       "dtype: object"
      ]
     },
     "execution_count": 33,
     "metadata": {},
     "output_type": "execute_result"
    }
   ],
   "source": [
    "# How many times did someone order more than one Canned Soda?\n",
    "canned_soda_sales = sales_data.loc[sales_data['item_name'].str.contains('^Canned Soda[a-z]*',flags=re.I, regex=True)]\n",
    "canned_soda_sales[canned_soda_sales['quantity'] > 1].sum()"
   ]
  },
  {
   "cell_type": "code",
   "execution_count": 188,
   "id": "068835cf",
   "metadata": {},
   "outputs": [
    {
     "data": {
      "image/png": "[encoded data removed]",
      "text/plain": [
       "<Figure size 1440x432 with 1 Axes>"
      ]
     },
     "metadata": {
      "needs_background": "light"
     },
     "output_type": "display_data"
    }
   ],
   "source": [
    "# PLOT A GRAPH SHOWING THE NUMBER OF TIMES A PRODUCT WAS ORDERED\n",
    "\n",
    "fig, ax = plt.subplots(figsize = (20,6))\n",
    "ax.hist(sales_data['item_name'], bins=100, width=0.4, color='indigo');\n",
    "ax.set(title='Bar Chart Showing How Many times a Product was Ordered',\n",
    "      xlabel='Product Name',\n",
    "      ylabel='Number of Orders')\n",
    "plt.tick_params(axis='both', which='major', labelsize=5 )"
   ]
  },
  {
   "cell_type": "code",
   "execution_count": null,
   "id": "27ba56bb",
   "metadata": {},
   "outputs": [],
   "source": []
  }
 ],
 "metadata": {
  "kernelspec": {
   "display_name": "Python 3 (ipykernel)",
   "language": "python",
   "name": "python3"
  },
  "language_info": {
   "codemirror_mode": {
    "name": "ipython",
    "version": 3
   },
   "file_extension": ".py",
   "mimetype": "text/x-python",
   "name": "python",
   "nbconvert_exporter": "python",
   "pygments_lexer": "ipython3",
   "version": "3.9.12"
  }
 },
 "nbformat": 4,
 "nbformat_minor": 5
}
